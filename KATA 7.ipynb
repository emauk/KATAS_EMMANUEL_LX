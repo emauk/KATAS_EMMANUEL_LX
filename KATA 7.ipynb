{
 "cells": [
  {
   "cell_type": "code",
   "execution_count": 6,
   "metadata": {},
   "outputs": [
    {
     "name": "stdout",
     "output_type": "stream",
     "text": [
      "['venus', 'tierra', 'marte', 'jupiter ', 'saturno ']\n",
      "['venus', 'tierra', 'marte', 'jupiter ', 'saturno ']\n",
      "['venus', 'tierra', 'marte', 'jupiter ', 'saturno ']\n",
      "['venus', 'tierra', 'marte', 'jupiter ', 'saturno ']\n",
      "['venus', 'tierra', 'marte', 'jupiter ', 'saturno ']\n",
      "['venus', 'tierra', 'marte', 'jupiter ', 'saturno ']\n"
     ]
    }
   ],
   "source": [
    "new_planet = input()\n",
    "planets=[]\n",
    "while new_planet.lower() != 'done' :\n",
    "    planets.append(new_planet)\n",
    "    new_planet = input()\n",
    "#print (planets)\n",
    "\n",
    "for vt in planets:\n",
    "    print(planets)"
   ]
  }
 ],
 "metadata": {
  "interpreter": {
   "hash": "5b983a2d143372c07fe6d9cc58c2fd4ddf86b56a2bcc40bbd703620dfb73e07a"
  },
  "kernelspec": {
   "display_name": "Python 3.10.2 64-bit",
   "language": "python",
   "name": "python3"
  },
  "language_info": {
   "codemirror_mode": {
    "name": "ipython",
    "version": 3
   },
   "file_extension": ".py",
   "mimetype": "text/x-python",
   "name": "python",
   "nbconvert_exporter": "python",
   "pygments_lexer": "ipython3",
   "version": "3.10.2"
  },
  "orig_nbformat": 4
 },
 "nbformat": 4,
 "nbformat_minor": 2
}
