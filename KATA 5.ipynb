{
 "cells": [
  {
   "cell_type": "code",
   "execution_count": 55,
   "metadata": {},
   "outputs": [
    {
     "name": "stdout",
     "output_type": "stream",
     "text": [
      "['mercurio', 'venus', 'tierra', 'marte', 'jupiter', 'saturno', 'urano', 'neptuno']\n",
      "son  8  planetas en el sistemas solar\n",
      "el planeta agregado a la lista fue:  pluton\n"
     ]
    }
   ],
   "source": [
    "from math import ceil, floor\n",
    "\n",
    "planets=['mercurio','venus','tierra','marte','jupiter','saturno','urano','neptuno']\n",
    "\n",
    "print(planets)\n",
    "print('son ',len(planets),' planetas en el sistemas solar')\n",
    "\n",
    "planets.append('pluton')\n",
    "print('el planeta agregado a la lista fue: ',planets[-1])\n"
   ]
  },
  {
   "cell_type": "code",
   "execution_count": 121,
   "metadata": {},
   "outputs": [
    {
     "name": "stdout",
     "output_type": "stream",
     "text": [
      "Escribe el nombre de un planeta, en ingles y empezando con mayuscula\n",
      "3\n",
      "planetas mas cercanos al sol: \n",
      "['Mercury', 'Venus', 'Earth']\n",
      "\n",
      " planetas mas lejanos del  sol: \n",
      "['Jupiter', 'Saturn', 'Uranus', 'Neptune']\n"
     ]
    }
   ],
   "source": [
    "planets = ['Mercury', 'Venus', 'Earth', 'Mars', 'Jupiter', 'Saturn','Uranus', 'Neptune']\n",
    "print('Escribe el nombre de un planeta, en ingles y empezando con mayuscula')\n",
    "plan_int=input()\n",
    "index = planets.index(plan_int)\n",
    "print(index)\n",
    "\n",
    "#for planetas in planets :\n",
    "print('planetas mas cercanos al sol: ')\n",
    "print(planets[0:index])\n",
    "\n",
    "print('\\n planetas mas lejanos del  sol: ')\n",
    "print(planets[index + 1:])\n",
    " "
   ]
  }
 ],
 "metadata": {
  "interpreter": {
   "hash": "5b983a2d143372c07fe6d9cc58c2fd4ddf86b56a2bcc40bbd703620dfb73e07a"
  },
  "kernelspec": {
   "display_name": "Python 3.10.2 64-bit",
   "language": "python",
   "name": "python3"
  },
  "language_info": {
   "codemirror_mode": {
    "name": "ipython",
    "version": 3
   },
   "file_extension": ".py",
   "mimetype": "text/x-python",
   "name": "python",
   "nbconvert_exporter": "python",
   "pygments_lexer": "ipython3",
   "version": "3.10.2"
  },
  "orig_nbformat": 4
 },
 "nbformat": 4,
 "nbformat_minor": 2
}
