{
 "cells": [
  {
   "cell_type": "code",
   "execution_count": 16,
   "metadata": {},
   "outputs": [
    {
     "name": "stdout",
     "output_type": "stream",
     "text": [
      "['Mercury', 'Venus', 'Earth', 'Mars', 'Jupiter', 'Saturn', 'Uranus', 'Neptune', 'Pluto'] \n",
      " El numero de planetas son:  9 \n",
      " El ultimo planeta es: Pluto\n"
     ]
    }
   ],
   "source": [
    "#Ejercicio1: Crear y usar listas de Python\n",
    "planets = ['Mercury', 'Venus', 'Earth', 'Mars', 'Jupiter', 'Saturn', 'Uranus', 'Neptune']\n",
    "planets.append('Pluto')\n",
    "\n",
    "print(planets, '\\n El numero de planetas son: ',len(planets),'\\n El ultimo planeta es:',planets[-1])"
   ]
  },
  {
   "cell_type": "code",
   "execution_count": 25,
   "metadata": {},
   "outputs": [
    {
     "name": "stdout",
     "output_type": "stream",
     "text": [
      "planeta seleccionado:  Mars  posicion:  4\n",
      "planetas antes de  Mars  son:  ['Mercury', 'Venus', 'Earth']\n",
      "planetas despues de  Mars  son:  ['Jupiter', 'Saturn', 'Uranus', 'Neptune']\n"
     ]
    }
   ],
   "source": [
    "planets_2 = ['Mercury', 'Venus', 'Earth', 'Mars', 'Jupiter', 'Saturn','Uranus', 'Neptune']\n",
    "planeta_e=input()\n",
    "pos=planets.index(planeta_e)\n",
    "print('planeta seleccionado: ',planeta_e, ' posicion: ',pos+1)\n",
    "print('planetas antes de ',planeta_e,' son: ',planets_2[0:pos])\n",
    "print('planetas despues de ',planeta_e,' son: ',planets_2[pos+1:])"
   ]
  }
 ],
 "metadata": {
  "interpreter": {
   "hash": "5b983a2d143372c07fe6d9cc58c2fd4ddf86b56a2bcc40bbd703620dfb73e07a"
  },
  "kernelspec": {
   "display_name": "Python 3.10.2 64-bit",
   "language": "python",
   "name": "python3"
  },
  "language_info": {
   "codemirror_mode": {
    "name": "ipython",
    "version": 3
   },
   "file_extension": ".py",
   "mimetype": "text/x-python",
   "name": "python",
   "nbconvert_exporter": "python",
   "pygments_lexer": "ipython3",
   "version": "3.10.2"
  },
  "orig_nbformat": 4
 },
 "nbformat": 4,
 "nbformat_minor": 2
}
