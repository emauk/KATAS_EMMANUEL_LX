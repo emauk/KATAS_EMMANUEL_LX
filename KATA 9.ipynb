{
 "cells": [
  {
   "cell_type": "code",
   "execution_count": 7,
   "metadata": {},
   "outputs": [
    {
     "name": "stdout",
     "output_type": "stream",
     "text": [
      "Combustible total:  360\n",
      "promedio de combustible por tanque 120.0\n"
     ]
    }
   ],
   "source": [
    "def tanques(tanque1, tanque2, tanque3):\n",
    "    combustible_total = (tanque1+tanque2+tanque3)/3\n",
    "    return combustible_total\n",
    "\n",
    "def reporte():\n",
    "    tanque1= 140    \n",
    "    tanque2= 120\n",
    "    tanque3= 100\n",
    "    \n",
    "    print('Combustible total: ',tanque1+tanque2+tanque3)\n",
    "    print('promedio de combustible por tanque',tanques(tanque1, tanque2, tanque3))\n",
    "\n",
    "reporte()"
   ]
  },
  {
   "cell_type": "code",
   "execution_count": 28,
   "metadata": {},
   "outputs": [
    {
     "name": "stdout",
     "output_type": "stream",
     "text": [
      "\n",
      "    dstino Moon\n",
      "    tiempo de vuelo: 60 minutos\n",
      "    combustible restante: 500000\n",
      "    main tank --> 300000 gallons left\n",
      "external tank --> 200000 gallons left\n",
      "\n"
     ]
    }
   ],
   "source": [
    "# Función con un informe preciso de la misión. Considera hora de prelanzamiento, \n",
    "# tiempo de vuelo, destino, tanque externo y tanque interno\n",
    "\n",
    "def informe_preciso (destino,*tiempo_v,**tanque):\n",
    "    main_report = f\"\"\"\n",
    "    dstino {destino}\n",
    "    tiempo de vuelo: {sum(tiempo_v)} minutos\n",
    "    combustible restante: {sum(tanque.values())}\n",
    "    \"\"\"\n",
    "\n",
    "    for tank_name, gallons in tanque.items():\n",
    "        main_report += f\"{tank_name} tank --> {gallons} gallons left\\n\"\n",
    "    return main_report\n",
    "print (informe_preciso('Moon',10,20,30, main=300000, external=200000))\n"
   ]
  },
  {
   "cell_type": "code",
   "execution_count": 10,
   "metadata": {},
   "outputs": [
    {
     "name": "stdout",
     "output_type": "stream",
     "text": [
      "\n",
      "    Mission to Moon\n",
      "    Total travel time: 76 minutes\n",
      "    Total fuel left: 500000\n",
      "    \n"
     ]
    }
   ],
   "source": [
    "def mission_report(destination, *minutes, **fuel_reservoirs):\n",
    "    return f\"\"\"\n",
    "    Mission to {destination}\n",
    "    Total travel time: {sum(minutes)} minutes\n",
    "    Total fuel left: {sum(fuel_reservoirs.values())}\n",
    "    \"\"\"\n",
    "\n",
    "print(mission_report(\"Moon\", 10, 15, 51, main=300000, external=200000))\n",
    "\n"
   ]
  }
 ],
 "metadata": {
  "interpreter": {
   "hash": "5b983a2d143372c07fe6d9cc58c2fd4ddf86b56a2bcc40bbd703620dfb73e07a"
  },
  "kernelspec": {
   "display_name": "Python 3.10.2 64-bit",
   "language": "python",
   "name": "python3"
  },
  "language_info": {
   "codemirror_mode": {
    "name": "ipython",
    "version": 3
   },
   "file_extension": ".py",
   "mimetype": "text/x-python",
   "name": "python",
   "nbconvert_exporter": "python",
   "pygments_lexer": "ipython3",
   "version": "3.10.2"
  },
  "orig_nbformat": 4
 },
 "nbformat": 4,
 "nbformat_minor": 2
}
