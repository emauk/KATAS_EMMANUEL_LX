{
 "cells": [
  {
   "cell_type": "code",
   "execution_count": 16,
   "metadata": {},
   "outputs": [
    {
     "name": "stdout",
     "output_type": "stream",
     "text": [
      " Advertencia por asteroide con vel mayor a 25km/s \n"
     ]
    }
   ],
   "source": [
    "vel_ad=25\n",
    "vel_as=49\n",
    "if vel_ad < vel_as:\n",
    "    print(\" Advertencia por asteroide con vel mayor a 25km/s \")\n",
    "else:\n",
    "    print(\" No hay problema \")"
   ]
  },
  {
   "cell_type": "markdown",
   "metadata": {},
   "source": [
    "# Añadir el código necesario para crear una variable que guarde la velocidad del asteroide.\n",
    "# Escribe una expresión de prueba para calcular si necesita una advertencia.\n",
    "# Agregue las instrucciones que se ejecutarán si la expresión de prueba es true o false."
   ]
  },
  {
   "cell_type": "code",
   "execution_count": 21,
   "metadata": {},
   "outputs": [
    {
     "name": "stdout",
     "output_type": "stream",
     "text": [
      " Se puede ver el rayo tamb ien entrando a elif\n"
     ]
    }
   ],
   "source": [
    "vel_a=20\n",
    "\n",
    "\n",
    "if vel_a > 20 :\n",
    "    print(\" Se puede ver un rayo de luz \")\n",
    "elif vel_a == 20 :\n",
    "    print(\" Se puede ver el rayo tamb ien entrando a elif\")\n",
    "else:\n",
    "    print(\" No puedes ver el rayo de luz \")"
   ]
  },
  {
   "cell_type": "markdown",
   "metadata": {},
   "source": [
    "# Agrega el código para crear una variable para un asteroide que viaja a 19 km/s\n",
    "# Escribe varias expresiones de prueba para determinar si puedes ver el rayo de luz desde la tierra\n",
    "# Agrega las instrucciones que se ejecutarán si las expresiones de prueba son True o False"
   ]
  },
  {
   "cell_type": "code",
   "execution_count": 40,
   "metadata": {},
   "outputs": [
    {
     "name": "stdout",
     "output_type": "stream",
     "text": [
      " ¡ADVERTENCIA!. El tamaño excede 1000 metros, ¡EXTINCION!\n"
     ]
    }
   ],
   "source": [
    "# vel >25 advertencia, vel >20 rayo de luz, tam<25 no probrema 25<=tam<100\n",
    "vel=26\n",
    "tam= 2333\n",
    "if tam < 25 and vel < 20 :\n",
    "    print(\" El tamaño no representa problema y no se va observar ningun rayo\")\n",
    "elif tam<25 and vel>=20 :\n",
    "    if vel >=25 :\n",
    "        print(\" ¡ADVERTENCIA! El tamaño no representa problema pero se vera un rayo \")\n",
    "    else :\n",
    "        print(\" El tamaño no representa problema pero se vera un rayo \")\n",
    "\n",
    "elif  tam <= 1000 and vel <= 20 :\n",
    "    print(\" Va causar mucho daño pero no se vera un rayo\")\n",
    "elif  tam <= 1000 and vel >= 20 :\n",
    "    if vel >=25 :\n",
    "        print(\" ¡ADVERTENCIA ! Va causar mucho daño y se vera un rayo\")\n",
    "    else :\n",
    "         print(\" Va causar mucho daño y se vera un rayo\")\n",
    "\n",
    "else :\n",
    "    if vel <= 25 :\n",
    "        print(\" El tamaño excede 1000 metros, ¡EXTINCION!\")\n",
    "\n",
    "    else: \n",
    "        print(\" ¡ADVERTENCIA!. El tamaño excede 1000 metros, ¡EXTINCION!\")\n"
   ]
  },
  {
   "cell_type": "markdown",
   "metadata": {},
   "source": [
    "# Agrega el código para crear nuevas variables para la velocidad y el tamaño del asteroide\n",
    "# Para probar el código, prueba con varias velocidades y tamaños\n",
    "# Escribe varias expresiones de prueba o combinaciones de expresiones de prueba para determinar qué mensaje se debe enviar a Tierra."
   ]
  }
 ],
 "metadata": {
  "interpreter": {
   "hash": "5b983a2d143372c07fe6d9cc58c2fd4ddf86b56a2bcc40bbd703620dfb73e07a"
  },
  "kernelspec": {
   "display_name": "Python 3.10.2 64-bit",
   "language": "python",
   "name": "python3"
  },
  "language_info": {
   "codemirror_mode": {
    "name": "ipython",
    "version": 3
   },
   "file_extension": ".py",
   "mimetype": "text/x-python",
   "name": "python",
   "nbconvert_exporter": "python",
   "pygments_lexer": "ipython3",
   "version": "3.10.2"
  },
  "orig_nbformat": 4
 },
 "nbformat": 4,
 "nbformat_minor": 2
}
